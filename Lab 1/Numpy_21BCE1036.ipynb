{
 "cells": [
  {
   "cell_type": "code",
   "execution_count": 1,
   "id": "4aa6557f-ff03-4d20-b946-bb9de814380a",
   "metadata": {},
   "outputs": [],
   "source": [
    "import numpy as np"
   ]
  },
  {
   "cell_type": "code",
   "execution_count": 2,
   "id": "8d51f66e-4247-4bce-a844-b1123aab3c6b",
   "metadata": {},
   "outputs": [
    {
     "data": {
      "text/plain": [
       "'1.26.4'"
      ]
     },
     "execution_count": 2,
     "metadata": {},
     "output_type": "execute_result"
    }
   ],
   "source": [
    "np.__version__"
   ]
  },
  {
   "cell_type": "code",
   "execution_count": 11,
   "id": "e9023603-699c-4782-8146-67b559822349",
   "metadata": {},
   "outputs": [
    {
     "name": "stdout",
     "output_type": "stream",
     "text": [
      "1D array:  [ 7  8  9 10 11 12]\n"
     ]
    }
   ],
   "source": [
    "arr1 = np.array([7, 8, 9, 10, 11, 12])\n",
    "print(\"1D array: \", arr1)"
   ]
  },
  {
   "cell_type": "code",
   "execution_count": 12,
   "id": "0084bcf4-fa78-47e7-bda1-1ff33976588a",
   "metadata": {},
   "outputs": [
    {
     "name": "stdout",
     "output_type": "stream",
     "text": [
      "2D array: \n",
      " [[10 20 30]\n",
      " [40 50 60]\n",
      " [70 80 90]]\n"
     ]
    }
   ],
   "source": [
    "arr2 = np.array([[10, 20, 30], [40, 50, 60], [70, 80, 90]])\n",
    "print(\"2D array: \\n\", arr2)"
   ]
  },
  {
   "cell_type": "code",
   "execution_count": 13,
   "id": "2f5f56e3-5593-4cf0-8445-5ff66f7284c5",
   "metadata": {},
   "outputs": [
    {
     "name": "stdout",
     "output_type": "stream",
     "text": [
      "Array with Rank 1: \n",
      " [4 5 6]\n"
     ]
    }
   ],
   "source": [
    "arr = np.array([4, 5, 6])\n",
    "print(\"Array with Rank 1: \\n\", arr)"
   ]
  },
  {
   "cell_type": "code",
   "execution_count": 14,
   "id": "32c249c0-c472-467f-94e4-3a68178aa87b",
   "metadata": {},
   "outputs": [
    {
     "name": "stdout",
     "output_type": "stream",
     "text": [
      "Array with Rank 2: \n",
      " [[ 2  4  6]\n",
      " [ 8 10 12]]\n"
     ]
    }
   ],
   "source": [
    "arr = np.array([[2, 4, 6], [8, 10, 12]])\n",
    "print(\"Array with Rank 2: \\n\", arr)"
   ]
  },
  {
   "cell_type": "code",
   "execution_count": 15,
   "id": "251367b5-7406-496a-8cb9-65537883ba88",
   "metadata": {},
   "outputs": [
    {
     "name": "stdout",
     "output_type": "stream",
     "text": [
      "\n",
      "Array created using passed tuple:\n",
      " [3 6 9]\n"
     ]
    }
   ],
   "source": [
    "arr = np.array((3, 6, 9))\n",
    "print(\"\\nArray created using passed tuple:\\n\", arr)"
   ]
  },
  {
   "cell_type": "code",
   "execution_count": 17,
   "id": "82ee867c-7651-4927-b6a1-bf88c32af0ee",
   "metadata": {},
   "outputs": [
    {
     "name": "stdout",
     "output_type": "stream",
     "text": [
      "About arr2:\n",
      "Type\t\t: <class 'numpy.ndarray'>\n",
      "Datatype\t: int32\n",
      "Shape\t\t: (3, 3)\n",
      "Size\t\t: 9\n",
      "itemsize\t: 4\n",
      "No. of dim\t: 2\n",
      "No. of bytes\t: 36\n"
     ]
    }
   ],
   "source": [
    "print(\"About arr2:\")\n",
    "print(\"Type\\t\\t:\" ,type(arr2))\n",
    "print(\"Datatype\\t:\", arr2.dtype)\n",
    "print(\"Shape\\t\\t:\", arr2.shape)\n",
    "print(\"Size\\t\\t:\", arr2.size)\n",
    "print(\"itemsize\\t:\", arr2.itemsize)\n",
    "print(\"No. of dim\\t:\", arr2.ndim)\n",
    "print(\"No. of bytes\\t:\", arr2.nbytes)"
   ]
  },
  {
   "cell_type": "code",
   "execution_count": 18,
   "id": "db5538a8-3d59-4e40-8673-2695200c8f3e",
   "metadata": {},
   "outputs": [
    {
     "name": "stdout",
     "output_type": "stream",
     "text": [
      "Zero Array \t:\n",
      " [[0 0]\n",
      " [0 0]\n",
      " [0 0]\n",
      " [0 0]\n",
      " [0 0]]\n",
      "Arrays with unit values\t:\n",
      " [[1. 1. 1. 1.]\n",
      " [1. 1. 1. 1.]\n",
      " [1. 1. 1. 1.]]\n",
      "Identity matrix\t:\n",
      " [[1. 0. 0.]\n",
      " [0. 1. 0.]\n",
      " [0. 0. 1.]\n",
      " [0. 0. 0.]]\n",
      "Random array\t\n",
      " [[0.67793105 0.12553376]\n",
      " [0.5860874  0.60848967]\n",
      " [0.99059283 0.94592945]]\n",
      "Random integer array\t:\n",
      " [[9 5 4 0 0 6]\n",
      " [7 2 8 2 1 2]]\n"
     ]
    }
   ],
   "source": [
    "arr3 = np.zeros((5, 2), dtype=int)\n",
    "arr4 = np.ones((3, 4), dtype=float)\n",
    "arr5 = np.eye(4, 3)\n",
    "arr6 = np.random.rand(3, 2)\n",
    "arr7 = np.random.randint(10, size=(2, 6))\n",
    "print(\"Zero Array \\t:\\n\", arr3)\n",
    "print(\"Arrays with unit values\\t:\\n\", arr4)\n",
    "print(\"Identity matrix\\t:\\n\", arr5)\n",
    "print(\"Random array\\t\\n\", arr6)\n",
    "print(\"Random integer array\\t:\\n\", arr7)\n"
   ]
  },
  {
   "cell_type": "code",
   "execution_count": 19,
   "id": "f3cfdd04-4dd9-4572-9118-db3f26108dc8",
   "metadata": {},
   "outputs": [
    {
     "name": "stdout",
     "output_type": "stream",
     "text": [
      "Array created with arange: \t\n",
      " [ 2  6 10 14 18]\n"
     ]
    }
   ],
   "source": [
    "arr8 = np.arange(2, 20, 4)\n",
    "print(\"Array created with arange: \\t\\n\", arr8)"
   ]
  },
  {
   "cell_type": "code",
   "execution_count": 21,
   "id": "98c8e03b-aab7-4a74-9805-5393c579fe06",
   "metadata": {},
   "outputs": [
    {
     "name": "stdout",
     "output_type": "stream",
     "text": [
      "Array created using linspace requesting 30 elements within 5 to 15:\t\n",
      " [ 5.          5.34482759  5.68965517  6.03448276  6.37931034  6.72413793\n",
      "  7.06896552  7.4137931   7.75862069  8.10344828  8.44827586  8.79310345\n",
      "  9.13793103  9.48275862  9.82758621 10.17241379 10.51724138 10.86206897\n",
      " 11.20689655 11.55172414 11.89655172 12.24137931 12.5862069  12.93103448\n",
      " 13.27586207 13.62068966 13.96551724 14.31034483 14.65517241 15.        ]\n"
     ]
    }
   ],
   "source": [
    "arr9 = np.linspace(5, 15, 30)\n",
    "print(\"Array created using linspace requesting 30 elements within 5 to 15:\\t\\n\", arr9)"
   ]
  },
  {
   "cell_type": "code",
   "execution_count": 22,
   "id": "376ee44a-f2d4-4a8f-956e-0c6e68720608",
   "metadata": {},
   "outputs": [
    {
     "name": "stdout",
     "output_type": "stream",
     "text": [
      "[[ 1  2  3  4  5]\n",
      " [ 6  7  8  9 10]\n",
      " [11 12 13 14 15]\n",
      " [16 17 18 19 20]]\n",
      "Row 2: [ 6  7  8  9 10]\n",
      "Column 2: [ 4  9 14 19]\n",
      "Elements 7, 8, 12, 13 :\n",
      " [[ 7  8]\n",
      " [12 13]]\n",
      "All elements: \n",
      " [[ 1  2  3  4  5]\n",
      " [ 6  7  8  9 10]\n",
      " [11 12 13 14 15]\n",
      " [16 17 18 19 20]]\n",
      "Strides:\n",
      " [[ 2  3]\n",
      " [12 13]]\n"
     ]
    }
   ],
   "source": [
    "arr10 = np.array([[1, 2, 3, 4, 5], [6, 7, 8, 9, 10], [11, 12, 13, 14, 15], [16, 17, 18, 19, 20]])\n",
    "print(arr10)\n",
    "print(\"Row 2:\", arr10[1, :])\n",
    "print(\"Column 2:\", arr10[:, 3])\n",
    "print(\"Elements 7, 8, 12, 13 :\\n\", arr10[1:3, 1:3])\n",
    "print(\"All elements: \\n\", arr10[::])\n",
    "print(\"Strides:\\n\", arr10[0::2, 1:3])"
   ]
  },
  {
   "cell_type": "code",
   "execution_count": 23,
   "id": "d24e08e6-b5b0-4f3e-8fb1-f11a0fad659d",
   "metadata": {},
   "outputs": [
    {
     "name": "stdout",
     "output_type": "stream",
     "text": [
      "[ 2  6 10 14 18]\n"
     ]
    }
   ],
   "source": [
    "arr11 = np.array([2, 4, 6, 8, 10, 12, 14, 16, 18])\n",
    "mask = np.array([1, 0, 1, 0, 1, 0, 1, 0, 1], dtype=bool)\n",
    "print(arr11[mask])"
   ]
  },
  {
   "cell_type": "code",
   "execution_count": 24,
   "id": "adccb379-4301-45da-b8e6-f4c9402429f1",
   "metadata": {},
   "outputs": [
    {
     "name": "stdout",
     "output_type": "stream",
     "text": [
      "Summation:\t [25 35 45]\n",
      "Difference:\t [-15 -15 -15]\n"
     ]
    }
   ],
   "source": [
    "arr13 = np.array([5, 10, 15])\n",
    "arr14 = np.array([20, 25, 30])\n",
    "arr15 = arr13 + arr14\n",
    "arr16 = arr13 - arr14\n",
    "print(\"Summation:\\t\", arr15)\n",
    "print(\"Difference:\\t\", arr16)"
   ]
  },
  {
   "cell_type": "code",
   "execution_count": 25,
   "id": "7ae0588c-7c52-4b73-9ff6-e5e336513c29",
   "metadata": {},
   "outputs": [
    {
     "name": "stdout",
     "output_type": "stream",
     "text": [
      "Sin values:\t [-0.54402111  0.91294525 -0.98803162  0.74511316]\n",
      "Log value:\t [2.30258509 2.99573227 3.40119738 3.68887945]\n"
     ]
    }
   ],
   "source": [
    "arr17 = np.array([10, 20, 30, 40])\n",
    "result7 = np.sin(arr17)\n",
    "print(\"Sin values:\\t\", result7)\n",
    "result8 = np.log(arr17)\n",
    "print(\"Log value:\\t\", result8)"
   ]
  },
  {
   "cell_type": "code",
   "execution_count": null,
   "id": "830656ad-91af-4298-8be2-f4049a467808",
   "metadata": {},
   "outputs": [],
   "source": []
  }
 ],
 "metadata": {
  "kernelspec": {
   "display_name": "Python 3 (ipykernel)",
   "language": "python",
   "name": "python3"
  },
  "language_info": {
   "codemirror_mode": {
    "name": "ipython",
    "version": 3
   },
   "file_extension": ".py",
   "mimetype": "text/x-python",
   "name": "python",
   "nbconvert_exporter": "python",
   "pygments_lexer": "ipython3",
   "version": "3.12.4"
  }
 },
 "nbformat": 4,
 "nbformat_minor": 5
}
