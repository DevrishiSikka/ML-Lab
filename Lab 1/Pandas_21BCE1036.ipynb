{
 "cells": [
  {
   "cell_type": "code",
   "execution_count": 27,
   "id": "eeb3cb7d-e831-41fb-9e4e-510172e7646b",
   "metadata": {},
   "outputs": [],
   "source": [
    "import pandas as pd\n",
    "import numpy as np"
   ]
  },
  {
   "cell_type": "code",
   "execution_count": 21,
   "id": "fe28597a-fc35-4655-a9bd-53bbf00d2d48",
   "metadata": {},
   "outputs": [
    {
     "name": "stdout",
     "output_type": "stream",
     "text": [
      "       Words\n",
      "0    Machine\n",
      "1   Learning\n",
      "2        Lab\n",
      "3   Devrishi\n",
      "4      Sikka\n",
      "5  21BCE1036\n",
      "6        VIT\n",
      "7    Chennai\n"
     ]
    }
   ],
   "source": [
    "lst = ['Machine', 'Learning', 'Lab', 'Devrishi', \n",
    "       'Sikka', '21BCE1036', 'VIT', 'Chennai']\n",
    "\n",
    "df = pd.DataFrame(lst, columns=['Words'])\n",
    "print(df)\n"
   ]
  },
  {
   "cell_type": "code",
   "execution_count": 28,
   "id": "6a31d615-46fd-4adb-9ae1-4d7ca493f2ae",
   "metadata": {},
   "outputs": [
    {
     "name": "stdout",
     "output_type": "stream",
     "text": [
      "      Name  Age         City\n",
      "0    Alice   25     New York\n",
      "1      Bob   30  Los Angeles\n",
      "2  Charlie   35      Chicago\n",
      "3    David   40      Houston\n"
     ]
    }
   ],
   "source": [
    "data = {'Name': ['Alice', 'Bob', 'Charlie', 'David'],\n",
    "        'Age': [25, 30, 35, 40],\n",
    "        'City': ['New York', 'Los Angeles', 'Chicago', 'Houston']}\n",
    "\n",
    "df = pd.DataFrame(data)\n",
    "\n",
    "print(df)"
   ]
  },
  {
   "cell_type": "code",
   "execution_count": 29,
   "id": "67cf7387-c30f-46e1-b873-6a776d97d172",
   "metadata": {},
   "outputs": [
    {
     "name": "stdout",
     "output_type": "stream",
     "text": [
      "      Name Qualification      Address\n",
      "0    Alice           MBA     New York\n",
      "1      Bob            BS  Los Angeles\n",
      "2  Charlie            MS      Chicago\n",
      "3    David           PhD      Houston\n"
     ]
    }
   ],
   "source": [
    "data = {'Name': ['Alice', 'Bob', 'Charlie', 'David'],\n",
    "        'Age': [29, 35, 31, 28],\n",
    "        'Address': ['New York', 'Los Angeles', 'Chicago', 'Houston'],\n",
    "        'Qualification': ['MBA', 'BS', 'MS', 'PhD']}\n",
    " \n",
    "df = pd.DataFrame(data)\n",
    " \n",
    "print(df[['Name', 'Qualification', 'Address']])"
   ]
  },
  {
   "cell_type": "code",
   "execution_count": 24,
   "id": "75f6ca39-31bf-4347-b7bc-8edc2d917eed",
   "metadata": {},
   "outputs": [
    {
     "name": "stdout",
     "output_type": "stream",
     "text": [
      "Allegiances           Night's Watch\n",
      "Death Year                    299.0\n",
      "Book of Death                   3.0\n",
      "Death Chapter                  33.0\n",
      "Book Intro Chapter              0.0\n",
      "Gender                            1\n",
      "Nobility                          0\n",
      "GoT                               0\n",
      "CoK                               0\n",
      "SoS                               1\n",
      "FfC                               0\n",
      "DwD                               0\n",
      "Name: Bannen, dtype: object \n",
      "\n",
      "\n",
      " Allegiances           House Stark\n",
      "Death Year                    NaN\n",
      "Book of Death                 NaN\n",
      "Death Chapter                 NaN\n",
      "Book Intro Chapter           50.0\n",
      "Gender                          1\n",
      "Nobility                        0\n",
      "GoT                             0\n",
      "CoK                             1\n",
      "SoS                             0\n",
      "FfC                             0\n",
      "DwD                             0\n",
      "Name: Gariss, dtype: object\n"
     ]
    }
   ],
   "source": [
    "data = pd.read_csv(\"character-deaths.csv\", index_col =\"Name\")\n",
    " \n",
    "first = data.loc[\"Bannen\"]\n",
    "second = data.loc[\"Gariss\"]\n",
    " \n",
    " \n",
    "print(first, \"\\n\\n\\n\", second)"
   ]
  },
  {
   "cell_type": "code",
   "execution_count": 25,
   "id": "61e2fe4e-f2b4-4d14-ab57-85aab19983ac",
   "metadata": {},
   "outputs": [
    {
     "name": "stdout",
     "output_type": "stream",
     "text": [
      "Name\n",
      "Addam Marbrand                   Lannister\n",
      "Aegon Frey (Jinglebell)                NaN\n",
      "Aegon Targaryen            House Targaryen\n",
      "Adrack Humble                House Greyjoy\n",
      "Aemon Costayne                   Lannister\n",
      "                                ...       \n",
      "Zollo                                  NaN\n",
      "Yurkhaz zo Yunzak                      NaN\n",
      "Yezzan Zo Qaggaz                       NaN\n",
      "Torwynd the Tame                  Wildling\n",
      "Talbert Serry                       Tyrell\n",
      "Name: Allegiances, Length: 917, dtype: object\n"
     ]
    }
   ],
   "source": [
    "data = pd.read_csv(\"character-deaths.csv\", index_col =\"Name\")\n",
    " \n",
    "first = data[\"Allegiances\"]\n",
    " \n",
    "print(first)"
   ]
  },
  {
   "cell_type": "code",
   "execution_count": 26,
   "id": "10e3c449-fe18-4340-bad2-77e2da2ca70b",
   "metadata": {},
   "outputs": [
    {
     "name": "stdout",
     "output_type": "stream",
     "text": [
      "Allegiances           Lannister\n",
      "Death Year                  NaN\n",
      "Book of Death               NaN\n",
      "Death Chapter               NaN\n",
      "Book Intro Chapter         56.0\n",
      "Gender                        1\n",
      "Nobility                      1\n",
      "GoT                           1\n",
      "CoK                           1\n",
      "SoS                           1\n",
      "FfC                           1\n",
      "DwD                           0\n",
      "Name: Addam Marbrand, dtype: object\n"
     ]
    }
   ],
   "source": [
    "data = pd.read_csv(\"character-deaths.csv\", index_col =\"Name\")\n",
    "\n",
    "row2 = data.iloc[0] \n",
    " \n",
    "print(row2)"
   ]
  },
  {
   "cell_type": "markdown",
   "id": "2ab4e138-4bfd-4f5c-a10f-b36c2a928df0",
   "metadata": {},
   "source": [
    "<h2 style=\"font-family:monospace;\">To check for missing values in a Pandas DataFrame, use isnull() and notnull(). These \n",
    "functions identify NaN values in both DataFrames and Series.</h2>"
   ]
  },
  {
   "cell_type": "code",
   "execution_count": 31,
   "id": "d3da197e-30dd-4647-9a66-da350098b730",
   "metadata": {},
   "outputs": [
    {
     "name": "stdout",
     "output_type": "stream",
     "text": [
      "   First Score  Second Score  Third Score\n",
      "0        100.0          30.0          NaN\n",
      "1         90.0          45.0         40.0\n",
      "2          NaN          56.0         80.0\n",
      "3         95.0           NaN         98.0\n"
     ]
    },
    {
     "data": {
      "text/html": [
       "<div>\n",
       "<style scoped>\n",
       "    .dataframe tbody tr th:only-of-type {\n",
       "        vertical-align: middle;\n",
       "    }\n",
       "\n",
       "    .dataframe tbody tr th {\n",
       "        vertical-align: top;\n",
       "    }\n",
       "\n",
       "    .dataframe thead th {\n",
       "        text-align: right;\n",
       "    }\n",
       "</style>\n",
       "<table border=\"1\" class=\"dataframe\">\n",
       "  <thead>\n",
       "    <tr style=\"text-align: right;\">\n",
       "      <th></th>\n",
       "      <th>First Score</th>\n",
       "      <th>Second Score</th>\n",
       "      <th>Third Score</th>\n",
       "    </tr>\n",
       "  </thead>\n",
       "  <tbody>\n",
       "    <tr>\n",
       "      <th>0</th>\n",
       "      <td>False</td>\n",
       "      <td>False</td>\n",
       "      <td>True</td>\n",
       "    </tr>\n",
       "    <tr>\n",
       "      <th>1</th>\n",
       "      <td>False</td>\n",
       "      <td>False</td>\n",
       "      <td>False</td>\n",
       "    </tr>\n",
       "    <tr>\n",
       "      <th>2</th>\n",
       "      <td>True</td>\n",
       "      <td>False</td>\n",
       "      <td>False</td>\n",
       "    </tr>\n",
       "    <tr>\n",
       "      <th>3</th>\n",
       "      <td>False</td>\n",
       "      <td>True</td>\n",
       "      <td>False</td>\n",
       "    </tr>\n",
       "  </tbody>\n",
       "</table>\n",
       "</div>"
      ],
      "text/plain": [
       "   First Score  Second Score  Third Score\n",
       "0        False         False         True\n",
       "1        False         False        False\n",
       "2         True         False        False\n",
       "3        False          True        False"
      ]
     },
     "execution_count": 31,
     "metadata": {},
     "output_type": "execute_result"
    }
   ],
   "source": [
    "data = {'First Score': [100, 90, np.nan, 95],\n",
    "        'Second Score': [30, 45, 56, np.nan],\n",
    "        'Third Score': [np.nan, 40, 80, 98]}\n",
    "\n",
    "df = pd.DataFrame(data)\n",
    "\n",
    "print(df)\n",
    "\n",
    "df.isnull()"
   ]
  },
  {
   "cell_type": "markdown",
   "id": "6f32488c-7d94-4588-ac69-9375bd88747f",
   "metadata": {},
   "source": [
    "<h2 >Filling missing values using fillna(), replace() and interpolate():</h2>"
   ]
  },
  {
   "cell_type": "code",
   "execution_count": 46,
   "id": "6a1b5b35-db19-4204-a46d-01d5388762f0",
   "metadata": {},
   "outputs": [
    {
     "name": "stdout",
     "output_type": "stream",
     "text": [
      "Original Dataframe\n",
      "\n",
      "    First Score  Second Score  Third Score\n",
      "0        100.0          30.0          NaN\n",
      "1         90.0          45.0         40.0\n",
      "2          NaN          56.0         80.0\n",
      "3         95.0           NaN         98.0\n",
      "DataFrame with fillna():\n",
      "    First Score  Second Score  Third Score\n",
      "0        100.0          30.0          0.0\n",
      "1         90.0          45.0         40.0\n",
      "2          0.0          56.0         80.0\n",
      "3         95.0           0.0         98.0 \n",
      "\n",
      "DataFrame with replace():\n",
      "    First Score  Second Score  Third Score\n",
      "0        100.0          30.0         -1.0\n",
      "1         90.0          45.0         40.0\n",
      "2         -1.0          56.0         80.0\n",
      "3         95.0          -1.0         98.0 \n",
      "\n",
      "DataFrame with interpolate():\n",
      "    First Score  Second Score  Third Score\n",
      "0        100.0          30.0          NaN\n",
      "1         90.0          45.0         40.0\n",
      "2         92.5          56.0         80.0\n",
      "3         95.0          56.0         98.0\n"
     ]
    }
   ],
   "source": [
    "data = {'First Score': [100, 90, np.nan, 95],\n",
    "        'Second Score': [30, 45, 56, np.nan],\n",
    "        'Third Score': [np.nan, 40, 80, 98]}\n",
    "\n",
    "df = pd.DataFrame(data)\n",
    "\n",
    "df_fillna = df.fillna(0)\n",
    "\n",
    "df_replace = df.replace(np.nan, -1)\n",
    "\n",
    "df_interpolate = df.interpolate()\n",
    "\n",
    "print(\"Original Dataframe\\n\\\", df)\n",
    "print(\"DataFrame with fillna():\\n\", df_fillna, \"\\n\")\n",
    "print(\"DataFrame with replace():\\n\", df_replace, \"\\n\")\n",
    "print(\"DataFrame with interpolate():\\n\", df_interpolate)"
   ]
  },
  {
   "cell_type": "code",
   "execution_count": 50,
   "id": "12107286-afa9-4406-87ef-9b3e4f8184ad",
   "metadata": {},
   "outputs": [
    {
     "data": {
      "text/html": [
       "<div>\n",
       "<style scoped>\n",
       "    .dataframe tbody tr th:only-of-type {\n",
       "        vertical-align: middle;\n",
       "    }\n",
       "\n",
       "    .dataframe tbody tr th {\n",
       "        vertical-align: top;\n",
       "    }\n",
       "\n",
       "    .dataframe thead th {\n",
       "        text-align: right;\n",
       "    }\n",
       "</style>\n",
       "<table border=\"1\" class=\"dataframe\">\n",
       "  <thead>\n",
       "    <tr style=\"text-align: right;\">\n",
       "      <th></th>\n",
       "      <th>First Score</th>\n",
       "      <th>Second Score</th>\n",
       "      <th>Third Score</th>\n",
       "      <th>Fourth Score</th>\n",
       "    </tr>\n",
       "  </thead>\n",
       "  <tbody>\n",
       "    <tr>\n",
       "      <th>1</th>\n",
       "      <td>90.0</td>\n",
       "      <td>45.0</td>\n",
       "      <td>40.0</td>\n",
       "      <td>40</td>\n",
       "    </tr>\n",
       "  </tbody>\n",
       "</table>\n",
       "</div>"
      ],
      "text/plain": [
       "   First Score  Second Score  Third Score  Fourth Score\n",
       "1         90.0          45.0         40.0            40"
      ]
     },
     "execution_count": 50,
     "metadata": {},
     "output_type": "execute_result"
    }
   ],
   "source": [
    "data = {'First Score': [100, 90, np.nan, 95],\n",
    "        'Second Score': [30, 45, 56, np.nan],\n",
    "        'Third Score': [np.nan, 40, 80, 98],\n",
    "        'Fourth Score':[52, 40, 80, 98],\n",
    "}\n",
    " \n",
    "df = pd.DataFrame(data)\n",
    " \n",
    "df.dropna()"
   ]
  },
  {
   "cell_type": "markdown",
   "id": "ae839de2-ff15-45da-9f34-baba9d1a5ae1",
   "metadata": {},
   "source": [
    "<h2>Iterating over rows :</h2>"
   ]
  },
  {
   "cell_type": "code",
   "execution_count": 53,
   "id": "112202bd-6729-4554-b580-1c4157be071c",
   "metadata": {},
   "outputs": [
    {
     "name": "stdout",
     "output_type": "stream",
     "text": [
      "      Name  Age      Address Qualification\n",
      "0    Alice   29     New York           MBA\n",
      "1      Bob   35  Los Angeles            BS\n",
      "2  Charlie   31      Chicago            MS\n",
      "3    David   28      Houston           PhD\n"
     ]
    }
   ],
   "source": [
    "data = {'Name': ['Alice', 'Bob', 'Charlie', 'David'],\n",
    "        'Age': [29, 35, 31, 28],\n",
    "        'Address': ['New York', 'Los Angeles', 'Chicago', 'Houston'],\n",
    "        'Qualification': ['MBA', 'BS', 'MS', 'PhD']}\n",
    "\n",
    "df = pd.DataFrame(data)\n",
    "\n",
    "print(df)"
   ]
  },
  {
   "cell_type": "code",
   "execution_count": 54,
   "id": "9de68cfd-f7d1-4e3a-9c27-e406a1699e30",
   "metadata": {},
   "outputs": [
    {
     "name": "stdout",
     "output_type": "stream",
     "text": [
      "0 Name                Alice\n",
      "Age                    29\n",
      "Address          New York\n",
      "Qualification         MBA\n",
      "Name: 0, dtype: object\n",
      "\n",
      "1 Name                     Bob\n",
      "Age                       35\n",
      "Address          Los Angeles\n",
      "Qualification             BS\n",
      "Name: 1, dtype: object\n",
      "\n",
      "2 Name             Charlie\n",
      "Age                   31\n",
      "Address          Chicago\n",
      "Qualification         MS\n",
      "Name: 2, dtype: object\n",
      "\n",
      "3 Name               David\n",
      "Age                   28\n",
      "Address          Houston\n",
      "Qualification        PhD\n",
      "Name: 3, dtype: object\n",
      "\n"
     ]
    }
   ],
   "source": [
    "for i, j in df.iterrows():\n",
    "    print(i, j)\n",
    "    print()"
   ]
  },
  {
   "cell_type": "markdown",
   "id": "772dca3b-2b8a-4429-834a-1407d38d4c48",
   "metadata": {},
   "source": [
    "<h2>Iterating over Columns :</h2>"
   ]
  },
  {
   "cell_type": "code",
   "execution_count": 57,
   "id": "f51a4291-8d39-492d-a83e-4373e11692f7",
   "metadata": {},
   "outputs": [
    {
     "name": "stdout",
     "output_type": "stream",
     "text": [
      "Bob\n",
      "35\n",
      "Los Angeles\n",
      "BS\n"
     ]
    }
   ],
   "source": [
    "columns = list(df)\n",
    " \n",
    "for i in columns:\n",
    "    print (df[i][1])"
   ]
  },
  {
   "cell_type": "code",
   "execution_count": 61,
   "id": "b5dc645d-895f-4ff9-bb8a-c18fdd951e49",
   "metadata": {},
   "outputs": [],
   "source": [
    "df2 = pd.read_csv(\"character-deaths.csv\")"
   ]
  },
  {
   "cell_type": "markdown",
   "id": "5ea90cf3-6e77-47cd-a098-95c52edf7aee",
   "metadata": {},
   "source": [
    "<h2><bold>.head()</bold> displays the first five rows of the DataFrame.</h2>"
   ]
  },
  {
   "cell_type": "code",
   "execution_count": 63,
   "id": "518397d3-2d81-46d3-ab32-17d675611156",
   "metadata": {},
   "outputs": [
    {
     "data": {
      "text/html": [
       "<div>\n",
       "<style scoped>\n",
       "    .dataframe tbody tr th:only-of-type {\n",
       "        vertical-align: middle;\n",
       "    }\n",
       "\n",
       "    .dataframe tbody tr th {\n",
       "        vertical-align: top;\n",
       "    }\n",
       "\n",
       "    .dataframe thead th {\n",
       "        text-align: right;\n",
       "    }\n",
       "</style>\n",
       "<table border=\"1\" class=\"dataframe\">\n",
       "  <thead>\n",
       "    <tr style=\"text-align: right;\">\n",
       "      <th></th>\n",
       "      <th>Name</th>\n",
       "      <th>Allegiances</th>\n",
       "      <th>Death Year</th>\n",
       "      <th>Book of Death</th>\n",
       "      <th>Death Chapter</th>\n",
       "      <th>Book Intro Chapter</th>\n",
       "      <th>Gender</th>\n",
       "      <th>Nobility</th>\n",
       "      <th>GoT</th>\n",
       "      <th>CoK</th>\n",
       "      <th>SoS</th>\n",
       "      <th>FfC</th>\n",
       "      <th>DwD</th>\n",
       "    </tr>\n",
       "  </thead>\n",
       "  <tbody>\n",
       "    <tr>\n",
       "      <th>0</th>\n",
       "      <td>Addam Marbrand</td>\n",
       "      <td>Lannister</td>\n",
       "      <td>NaN</td>\n",
       "      <td>NaN</td>\n",
       "      <td>NaN</td>\n",
       "      <td>56.0</td>\n",
       "      <td>1</td>\n",
       "      <td>1</td>\n",
       "      <td>1</td>\n",
       "      <td>1</td>\n",
       "      <td>1</td>\n",
       "      <td>1</td>\n",
       "      <td>0</td>\n",
       "    </tr>\n",
       "    <tr>\n",
       "      <th>1</th>\n",
       "      <td>Aegon Frey (Jinglebell)</td>\n",
       "      <td>NaN</td>\n",
       "      <td>299.0</td>\n",
       "      <td>3.0</td>\n",
       "      <td>51.0</td>\n",
       "      <td>49.0</td>\n",
       "      <td>1</td>\n",
       "      <td>1</td>\n",
       "      <td>0</td>\n",
       "      <td>0</td>\n",
       "      <td>1</td>\n",
       "      <td>0</td>\n",
       "      <td>0</td>\n",
       "    </tr>\n",
       "    <tr>\n",
       "      <th>2</th>\n",
       "      <td>Aegon Targaryen</td>\n",
       "      <td>House Targaryen</td>\n",
       "      <td>NaN</td>\n",
       "      <td>NaN</td>\n",
       "      <td>NaN</td>\n",
       "      <td>5.0</td>\n",
       "      <td>1</td>\n",
       "      <td>1</td>\n",
       "      <td>0</td>\n",
       "      <td>0</td>\n",
       "      <td>0</td>\n",
       "      <td>0</td>\n",
       "      <td>1</td>\n",
       "    </tr>\n",
       "    <tr>\n",
       "      <th>3</th>\n",
       "      <td>Adrack Humble</td>\n",
       "      <td>House Greyjoy</td>\n",
       "      <td>300.0</td>\n",
       "      <td>5.0</td>\n",
       "      <td>20.0</td>\n",
       "      <td>20.0</td>\n",
       "      <td>1</td>\n",
       "      <td>1</td>\n",
       "      <td>0</td>\n",
       "      <td>0</td>\n",
       "      <td>0</td>\n",
       "      <td>0</td>\n",
       "      <td>1</td>\n",
       "    </tr>\n",
       "    <tr>\n",
       "      <th>4</th>\n",
       "      <td>Aemon Costayne</td>\n",
       "      <td>Lannister</td>\n",
       "      <td>NaN</td>\n",
       "      <td>NaN</td>\n",
       "      <td>NaN</td>\n",
       "      <td>NaN</td>\n",
       "      <td>1</td>\n",
       "      <td>1</td>\n",
       "      <td>0</td>\n",
       "      <td>0</td>\n",
       "      <td>1</td>\n",
       "      <td>0</td>\n",
       "      <td>0</td>\n",
       "    </tr>\n",
       "  </tbody>\n",
       "</table>\n",
       "</div>"
      ],
      "text/plain": [
       "                      Name      Allegiances  Death Year  Book of Death  \\\n",
       "0           Addam Marbrand        Lannister         NaN            NaN   \n",
       "1  Aegon Frey (Jinglebell)              NaN       299.0            3.0   \n",
       "2          Aegon Targaryen  House Targaryen         NaN            NaN   \n",
       "3            Adrack Humble    House Greyjoy       300.0            5.0   \n",
       "4           Aemon Costayne        Lannister         NaN            NaN   \n",
       "\n",
       "   Death Chapter  Book Intro Chapter  Gender  Nobility  GoT  CoK  SoS  FfC  \\\n",
       "0            NaN                56.0       1         1    1    1    1    1   \n",
       "1           51.0                49.0       1         1    0    0    1    0   \n",
       "2            NaN                 5.0       1         1    0    0    0    0   \n",
       "3           20.0                20.0       1         1    0    0    0    0   \n",
       "4            NaN                 NaN       1         1    0    0    1    0   \n",
       "\n",
       "   DwD  \n",
       "0    0  \n",
       "1    0  \n",
       "2    1  \n",
       "3    1  \n",
       "4    0  "
      ]
     },
     "execution_count": 63,
     "metadata": {},
     "output_type": "execute_result"
    }
   ],
   "source": [
    "df2.head()"
   ]
  },
  {
   "cell_type": "markdown",
   "id": "8fe0d20a-72f9-4c83-bece-9e2de97fd101",
   "metadata": {},
   "source": [
    "<h2><bold>.tail()</bold> displays the last five rows of the DataFrame.</h2>"
   ]
  },
  {
   "cell_type": "code",
   "execution_count": 59,
   "id": "3e5b6b02-4050-43c3-9ad6-4cd2f5894b53",
   "metadata": {},
   "outputs": [
    {
     "data": {
      "text/html": [
       "<div>\n",
       "<style scoped>\n",
       "    .dataframe tbody tr th:only-of-type {\n",
       "        vertical-align: middle;\n",
       "    }\n",
       "\n",
       "    .dataframe tbody tr th {\n",
       "        vertical-align: top;\n",
       "    }\n",
       "\n",
       "    .dataframe thead th {\n",
       "        text-align: right;\n",
       "    }\n",
       "</style>\n",
       "<table border=\"1\" class=\"dataframe\">\n",
       "  <thead>\n",
       "    <tr style=\"text-align: right;\">\n",
       "      <th></th>\n",
       "      <th>Name</th>\n",
       "      <th>Allegiances</th>\n",
       "      <th>Death Year</th>\n",
       "      <th>Book of Death</th>\n",
       "      <th>Death Chapter</th>\n",
       "      <th>Book Intro Chapter</th>\n",
       "      <th>Gender</th>\n",
       "      <th>Nobility</th>\n",
       "      <th>GoT</th>\n",
       "      <th>CoK</th>\n",
       "      <th>SoS</th>\n",
       "      <th>FfC</th>\n",
       "      <th>DwD</th>\n",
       "    </tr>\n",
       "  </thead>\n",
       "  <tbody>\n",
       "    <tr>\n",
       "      <th>912</th>\n",
       "      <td>Zollo</td>\n",
       "      <td>NaN</td>\n",
       "      <td>NaN</td>\n",
       "      <td>NaN</td>\n",
       "      <td>NaN</td>\n",
       "      <td>21.0</td>\n",
       "      <td>1</td>\n",
       "      <td>0</td>\n",
       "      <td>0</td>\n",
       "      <td>0</td>\n",
       "      <td>1</td>\n",
       "      <td>0</td>\n",
       "      <td>0</td>\n",
       "    </tr>\n",
       "    <tr>\n",
       "      <th>913</th>\n",
       "      <td>Yurkhaz zo Yunzak</td>\n",
       "      <td>NaN</td>\n",
       "      <td>300.0</td>\n",
       "      <td>5.0</td>\n",
       "      <td>59.0</td>\n",
       "      <td>47.0</td>\n",
       "      <td>1</td>\n",
       "      <td>0</td>\n",
       "      <td>0</td>\n",
       "      <td>0</td>\n",
       "      <td>0</td>\n",
       "      <td>0</td>\n",
       "      <td>1</td>\n",
       "    </tr>\n",
       "    <tr>\n",
       "      <th>914</th>\n",
       "      <td>Yezzan Zo Qaggaz</td>\n",
       "      <td>NaN</td>\n",
       "      <td>300.0</td>\n",
       "      <td>5.0</td>\n",
       "      <td>57.0</td>\n",
       "      <td>25.0</td>\n",
       "      <td>1</td>\n",
       "      <td>1</td>\n",
       "      <td>0</td>\n",
       "      <td>0</td>\n",
       "      <td>0</td>\n",
       "      <td>0</td>\n",
       "      <td>1</td>\n",
       "    </tr>\n",
       "    <tr>\n",
       "      <th>915</th>\n",
       "      <td>Torwynd the Tame</td>\n",
       "      <td>Wildling</td>\n",
       "      <td>300.0</td>\n",
       "      <td>5.0</td>\n",
       "      <td>73.0</td>\n",
       "      <td>73.0</td>\n",
       "      <td>1</td>\n",
       "      <td>0</td>\n",
       "      <td>0</td>\n",
       "      <td>0</td>\n",
       "      <td>1</td>\n",
       "      <td>0</td>\n",
       "      <td>0</td>\n",
       "    </tr>\n",
       "    <tr>\n",
       "      <th>916</th>\n",
       "      <td>Talbert Serry</td>\n",
       "      <td>Tyrell</td>\n",
       "      <td>300.0</td>\n",
       "      <td>4.0</td>\n",
       "      <td>29.0</td>\n",
       "      <td>29.0</td>\n",
       "      <td>1</td>\n",
       "      <td>1</td>\n",
       "      <td>0</td>\n",
       "      <td>0</td>\n",
       "      <td>0</td>\n",
       "      <td>1</td>\n",
       "      <td>0</td>\n",
       "    </tr>\n",
       "  </tbody>\n",
       "</table>\n",
       "</div>"
      ],
      "text/plain": [
       "                  Name Allegiances  Death Year  Book of Death  Death Chapter  \\\n",
       "912              Zollo         NaN         NaN            NaN            NaN   \n",
       "913  Yurkhaz zo Yunzak         NaN       300.0            5.0           59.0   \n",
       "914   Yezzan Zo Qaggaz         NaN       300.0            5.0           57.0   \n",
       "915   Torwynd the Tame    Wildling       300.0            5.0           73.0   \n",
       "916      Talbert Serry      Tyrell       300.0            4.0           29.0   \n",
       "\n",
       "     Book Intro Chapter  Gender  Nobility  GoT  CoK  SoS  FfC  DwD  \n",
       "912                21.0       1         0    0    0    1    0    0  \n",
       "913                47.0       1         0    0    0    0    0    1  \n",
       "914                25.0       1         1    0    0    0    0    1  \n",
       "915                73.0       1         0    0    0    1    0    0  \n",
       "916                29.0       1         1    0    0    0    1    0  "
      ]
     },
     "execution_count": 59,
     "metadata": {},
     "output_type": "execute_result"
    }
   ],
   "source": [
    "df2.tail()"
   ]
  },
  {
   "cell_type": "code",
   "execution_count": 67,
   "id": "dbf51c4d-685e-4fc3-9651-6fb32acc9c5d",
   "metadata": {},
   "outputs": [
    {
     "name": "stdout",
     "output_type": "stream",
     "text": [
      "Type:\n",
      " <class 'pandas.core.frame.DataFrame'>\n",
      "Information about the dataframe: <bound method DataFrame.info of                         Name      Allegiances  Death Year  Book of Death  \\\n",
      "0             Addam Marbrand        Lannister         NaN            NaN   \n",
      "1    Aegon Frey (Jinglebell)              NaN       299.0            3.0   \n",
      "2            Aegon Targaryen  House Targaryen         NaN            NaN   \n",
      "3              Adrack Humble    House Greyjoy       300.0            5.0   \n",
      "4             Aemon Costayne        Lannister         NaN            NaN   \n",
      "..                       ...              ...         ...            ...   \n",
      "912                    Zollo              NaN         NaN            NaN   \n",
      "913        Yurkhaz zo Yunzak              NaN       300.0            5.0   \n",
      "914         Yezzan Zo Qaggaz              NaN       300.0            5.0   \n",
      "915         Torwynd the Tame         Wildling       300.0            5.0   \n",
      "916            Talbert Serry           Tyrell       300.0            4.0   \n",
      "\n",
      "     Death Chapter  Book Intro Chapter  Gender  Nobility  GoT  CoK  SoS  FfC  \\\n",
      "0              NaN                56.0       1         1    1    1    1    1   \n",
      "1             51.0                49.0       1         1    0    0    1    0   \n",
      "2              NaN                 5.0       1         1    0    0    0    0   \n",
      "3             20.0                20.0       1         1    0    0    0    0   \n",
      "4              NaN                 NaN       1         1    0    0    1    0   \n",
      "..             ...                 ...     ...       ...  ...  ...  ...  ...   \n",
      "912            NaN                21.0       1         0    0    0    1    0   \n",
      "913           59.0                47.0       1         0    0    0    0    0   \n",
      "914           57.0                25.0       1         1    0    0    0    0   \n",
      "915           73.0                73.0       1         0    0    0    1    0   \n",
      "916           29.0                29.0       1         1    0    0    0    1   \n",
      "\n",
      "     DwD  \n",
      "0      0  \n",
      "1      0  \n",
      "2      1  \n",
      "3      1  \n",
      "4      0  \n",
      "..   ...  \n",
      "912    0  \n",
      "913    1  \n",
      "914    1  \n",
      "915    0  \n",
      "916    0  \n",
      "\n",
      "[917 rows x 13 columns]>\n"
     ]
    }
   ],
   "source": [
    "print(\"Type:\\n\",type(df2))\n",
    "print(\"Information about the dataframe:\",df2.info)"
   ]
  },
  {
   "cell_type": "code",
   "execution_count": 68,
   "id": "b36768ca-52d7-422d-ad42-52e825555419",
   "metadata": {},
   "outputs": [
    {
     "name": "stdout",
     "output_type": "stream",
     "text": [
      "Shape of datafframe: (917, 13)\n",
      "(917, 13)\n"
     ]
    }
   ],
   "source": [
    "print(\"Shape of datafframe:\",df2.shape)\n",
    "df2.drop_duplicates()\n",
    "print(df2.shape)"
   ]
  },
  {
   "cell_type": "code",
   "execution_count": 71,
   "id": "3ca0ddc8-2286-4607-b9ba-17758737ce57",
   "metadata": {},
   "outputs": [
    {
     "name": "stdout",
     "output_type": "stream",
     "text": [
      "Columns of dataframe:\t Index(['Name', 'Allegiances', 'Death Year', 'Book of Death', 'Death Chapter',\n",
      "       'Book Intro Chapter', 'Gender', 'Nobility', 'GoT', 'CoK', 'SoS', 'FfC',\n",
      "       'DwD'],\n",
      "      dtype='object')\n"
     ]
    }
   ],
   "source": [
    "print(\"Columns of dataframe:\\t\",df2.columns)"
   ]
  },
  {
   "cell_type": "code",
   "execution_count": 73,
   "id": "a6d7b9eb-7cd9-4c69-92ed-585cf742fc18",
   "metadata": {},
   "outputs": [
    {
     "name": "stdout",
     "output_type": "stream",
     "text": [
      "       Death Year  Book of Death  Death Chapter  Book Intro Chapter  \\\n",
      "count  305.000000     307.000000     299.000000          905.000000   \n",
      "mean   299.157377       2.928339      40.070234           28.861878   \n",
      "std      0.703483       1.326482      20.470270           20.165788   \n",
      "min    297.000000       1.000000       0.000000            0.000000   \n",
      "25%    299.000000       2.000000      25.500000           11.000000   \n",
      "50%    299.000000       3.000000      39.000000           27.000000   \n",
      "75%    300.000000       4.000000      57.000000           43.000000   \n",
      "max    300.000000       5.000000      80.000000           80.000000   \n",
      "\n",
      "           Gender    Nobility         GoT         CoK         SoS         FfC  \\\n",
      "count  917.000000  917.000000  917.000000  917.000000  917.000000  917.000000   \n",
      "mean     0.828790    0.468920    0.272628    0.353326    0.424209    0.272628   \n",
      "std      0.376898    0.499305    0.445554    0.478264    0.494492    0.445554   \n",
      "min      0.000000    0.000000    0.000000    0.000000    0.000000    0.000000   \n",
      "25%      1.000000    0.000000    0.000000    0.000000    0.000000    0.000000   \n",
      "50%      1.000000    0.000000    0.000000    0.000000    0.000000    0.000000   \n",
      "75%      1.000000    1.000000    1.000000    1.000000    1.000000    1.000000   \n",
      "max      1.000000    1.000000    1.000000    1.000000    1.000000    1.000000   \n",
      "\n",
      "              DwD  \n",
      "count  917.000000  \n",
      "mean     0.284624  \n",
      "std      0.451481  \n",
      "min      0.000000  \n",
      "25%      0.000000  \n",
      "50%      0.000000  \n",
      "75%      1.000000  \n",
      "max      1.000000  \n"
     ]
    }
   ],
   "source": [
    "print(df2.describe())"
   ]
  },
  {
   "cell_type": "code",
   "execution_count": null,
   "id": "4396a812-4367-47d6-9b08-87244475c8ad",
   "metadata": {},
   "outputs": [],
   "source": []
  }
 ],
 "metadata": {
  "kernelspec": {
   "display_name": "Python 3 (ipykernel)",
   "language": "python",
   "name": "python3"
  },
  "language_info": {
   "codemirror_mode": {
    "name": "ipython",
    "version": 3
   },
   "file_extension": ".py",
   "mimetype": "text/x-python",
   "name": "python",
   "nbconvert_exporter": "python",
   "pygments_lexer": "ipython3",
   "version": "3.12.4"
  }
 },
 "nbformat": 4,
 "nbformat_minor": 5
}
